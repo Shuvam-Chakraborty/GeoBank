{
 "cells": [
  {
   "cell_type": "code",
   "execution_count": 8,
   "id": "6aed102f",
   "metadata": {},
   "outputs": [
    {
     "name": "stdout",
     "output_type": "stream",
     "text": [
      "Requirement already satisfied: selenium in e:\\apps\\miniconda\\lib\\site-packages (4.34.0)\n",
      "Requirement already satisfied: webdriver-manager in e:\\apps\\miniconda\\lib\\site-packages (4.0.2)\n",
      "Requirement already satisfied: beautifulsoup4 in e:\\apps\\miniconda\\lib\\site-packages (4.12.3)\n",
      "Requirement already satisfied: pandas in e:\\apps\\miniconda\\lib\\site-packages (2.2.3)\n",
      "Requirement already satisfied: urllib3~=2.4.0 in e:\\apps\\miniconda\\lib\\site-packages (from urllib3[socks]~=2.4.0->selenium) (2.4.0)\n",
      "Requirement already satisfied: trio~=0.30.0 in e:\\apps\\miniconda\\lib\\site-packages (from selenium) (0.30.0)\n",
      "Requirement already satisfied: trio-websocket~=0.12.2 in e:\\apps\\miniconda\\lib\\site-packages (from selenium) (0.12.2)\n",
      "Requirement already satisfied: certifi>=2025.4.26 in e:\\apps\\miniconda\\lib\\site-packages (from selenium) (2025.6.15)\n",
      "Requirement already satisfied: typing_extensions~=4.14.0 in e:\\apps\\miniconda\\lib\\site-packages (from selenium) (4.14.1)\n",
      "Requirement already satisfied: websocket-client~=1.8.0 in e:\\apps\\miniconda\\lib\\site-packages (from selenium) (1.8.0)\n",
      "Requirement already satisfied: attrs>=23.2.0 in e:\\apps\\miniconda\\lib\\site-packages (from trio~=0.30.0->selenium) (24.3.0)\n",
      "Requirement already satisfied: sortedcontainers in e:\\apps\\miniconda\\lib\\site-packages (from trio~=0.30.0->selenium) (2.4.0)\n",
      "Requirement already satisfied: idna in e:\\apps\\miniconda\\lib\\site-packages (from trio~=0.30.0->selenium) (3.7)\n",
      "Requirement already satisfied: outcome in e:\\apps\\miniconda\\lib\\site-packages (from trio~=0.30.0->selenium) (1.3.0.post0)\n",
      "Requirement already satisfied: sniffio>=1.3.0 in e:\\apps\\miniconda\\lib\\site-packages (from trio~=0.30.0->selenium) (1.3.0)\n",
      "Requirement already satisfied: cffi>=1.14 in e:\\apps\\miniconda\\lib\\site-packages (from trio~=0.30.0->selenium) (1.17.1)\n",
      "Requirement already satisfied: wsproto>=0.14 in e:\\apps\\miniconda\\lib\\site-packages (from trio-websocket~=0.12.2->selenium) (1.2.0)\n",
      "Requirement already satisfied: pysocks!=1.5.7,<2.0,>=1.5.6 in e:\\apps\\miniconda\\lib\\site-packages (from urllib3[socks]~=2.4.0->selenium) (1.7.1)\n",
      "Requirement already satisfied: requests in e:\\apps\\miniconda\\lib\\site-packages (from webdriver-manager) (2.32.3)\n",
      "Requirement already satisfied: python-dotenv in e:\\apps\\miniconda\\lib\\site-packages (from webdriver-manager) (1.1.1)\n",
      "Requirement already satisfied: packaging in e:\\apps\\miniconda\\lib\\site-packages (from webdriver-manager) (24.2)\n",
      "Requirement already satisfied: soupsieve>1.2 in e:\\apps\\miniconda\\lib\\site-packages (from beautifulsoup4) (2.5)\n",
      "Requirement already satisfied: numpy>=1.26.0 in e:\\apps\\miniconda\\lib\\site-packages (from pandas) (2.2.6)\n",
      "Requirement already satisfied: python-dateutil>=2.8.2 in e:\\apps\\miniconda\\lib\\site-packages (from pandas) (2.9.0.post0)\n",
      "Requirement already satisfied: pytz>=2020.1 in e:\\apps\\miniconda\\lib\\site-packages (from pandas) (2024.1)\n",
      "Requirement already satisfied: tzdata>=2022.7 in e:\\apps\\miniconda\\lib\\site-packages (from pandas) (2025.2)\n",
      "Requirement already satisfied: pycparser in e:\\apps\\miniconda\\lib\\site-packages (from cffi>=1.14->trio~=0.30.0->selenium) (2.21)\n",
      "Requirement already satisfied: six>=1.5 in e:\\apps\\miniconda\\lib\\site-packages (from python-dateutil>=2.8.2->pandas) (1.17.0)\n",
      "Requirement already satisfied: h11<1,>=0.9.0 in e:\\apps\\miniconda\\lib\\site-packages (from wsproto>=0.14->trio-websocket~=0.12.2->selenium) (0.16.0)\n",
      "Requirement already satisfied: charset-normalizer<4,>=2 in e:\\apps\\miniconda\\lib\\site-packages (from requests->webdriver-manager) (3.3.2)\n"
     ]
    }
   ],
   "source": [
    "# 📦 Install Dependencies (Run once in your notebook or terminal)\n",
    "!pip install selenium webdriver-manager beautifulsoup4 pandas\n"
   ]
  },
  {
   "cell_type": "code",
   "execution_count": 9,
   "id": "c57aa183",
   "metadata": {},
   "outputs": [],
   "source": [
    "# 📚 Imports\n",
    "from selenium import webdriver\n",
    "from selenium.webdriver.firefox.options import Options\n",
    "from selenium.webdriver.firefox.service import Service\n",
    "from webdriver_manager.firefox import GeckoDriverManager\n",
    "from bs4 import BeautifulSoup\n",
    "import pandas as pd\n",
    "import time\n",
    "import os\n"
   ]
  },
  {
   "cell_type": "code",
   "execution_count": 10,
   "id": "7fcb9f44",
   "metadata": {},
   "outputs": [],
   "source": [
    "# 🚀 Step 1: Set up Selenium with Headless Firefox\n",
    "options = Options()\n",
    "options.add_argument(\"--headless\")  # so it runs in background\n",
    "\n",
    "driver = webdriver.Firefox(service=Service(GeckoDriverManager().install()), options=options)\n"
   ]
  },
  {
   "cell_type": "code",
   "execution_count": 11,
   "id": "3dca7a3a",
   "metadata": {},
   "outputs": [],
   "source": [
    "# 🌐 Step 2: Load the Bank Rankings Page\n",
    "url = \"https://www.usbanklocations.com/bank-rank/total-deposits.html\"\n",
    "driver.get(url)\n",
    "time.sleep(5)  # wait for page to load\n"
   ]
  },
  {
   "cell_type": "code",
   "execution_count": 12,
   "id": "de30a737",
   "metadata": {},
   "outputs": [
    {
     "name": "stdout",
     "output_type": "stream",
     "text": [
      "=== DEBUG: Finding tables ===\n",
      "Found 2 table(s)\n"
     ]
    }
   ],
   "source": [
    "# 🧠 Step 3: Debug and Parse Table with BeautifulSoup\n",
    "soup = BeautifulSoup(driver.page_source, 'html.parser')\n",
    "\n",
    "# 🔍 Debug: Check what tables exist\n",
    "print(\"=== DEBUG: Finding tables ===\")\n",
    "all_tables = soup.find_all(\"table\")\n",
    "print(f\"Found {len(all_tables)} table(s)\")"
   ]
  },
  {
   "cell_type": "code",
   "execution_count": 13,
   "id": "7a5800a3",
   "metadata": {},
   "outputs": [
    {
     "name": "stdout",
     "output_type": "stream",
     "text": [
      "Processing Table 1...\n",
      "Table 1 has 1 rows\n",
      "Data rows to process: 0\n",
      "✅ Table 1 saved to ../data/raw/table_1.csv\n",
      "Processing Table 2...\n",
      "Table 2 has 4492 rows\n",
      "Data rows to process: 4491\n",
      "✅ Table 2 saved to ../data/raw/table_2.csv\n"
     ]
    }
   ],
   "source": [
    "# 💾 Step 4: Save each table to a separate CSV file\n",
    "os.makedirs(\"../data/raw\", exist_ok=True)\n",
    "\n",
    "for i, table in enumerate(all_tables):\n",
    "    print(f\"Processing Table {i+1}...\")\n",
    "    \n",
    "    # Check table structure\n",
    "    rows = table.find_all(\"tr\")\n",
    "    print(f\"Table {i+1} has {len(rows)} rows\")\n",
    "    \n",
    "    data = []\n",
    "    \n",
    "    if len(rows) > 0:\n",
    "        header_row = rows[0]\n",
    "        header_cells = header_row.find_all(['th', 'td'])\n",
    "        headers = [cell.text.strip() for cell in header_cells]\n",
    "        \n",
    "        # Skip header and process data rows\n",
    "        data_rows = rows[1:] if len(rows) > 1 else []\n",
    "        print(f\"Data rows to process: {len(data_rows)}\")\n",
    "        \n",
    "        for row in data_rows:\n",
    "            cols = row.find_all(\"td\")\n",
    "            if len(cols) >= len(headers):  # Ensure we have enough columns\n",
    "                row_data = [col.text.strip() for col in cols]\n",
    "                data.append(row_data)\n",
    "    \n",
    "    # Create DataFrame and save to CSV\n",
    "    df = pd.DataFrame(data, columns=headers)\n",
    "    csv_file_path = f\"../data/raw/table_{i+1}.csv\"\n",
    "    df.to_csv(csv_file_path, index=False)\n",
    "    print(f\"✅ Table {i+1} saved to {csv_file_path}\")"
   ]
  },
  {
   "cell_type": "code",
   "execution_count": 14,
   "id": "7bfb8aa2",
   "metadata": {},
   "outputs": [],
   "source": [
    "# ✅ Step 5: Close the Browser\n",
    "driver.quit()\n"
   ]
  },
  {
   "cell_type": "code",
   "execution_count": null,
   "id": "42652e4b",
   "metadata": {},
   "outputs": [],
   "source": []
  }
 ],
 "metadata": {
  "kernelspec": {
   "display_name": "GeoBank (Conda)",
   "language": "python",
   "name": "geo_bank"
  },
  "language_info": {
   "codemirror_mode": {
    "name": "ipython",
    "version": 3
   },
   "file_extension": ".py",
   "mimetype": "text/x-python",
   "name": "python",
   "nbconvert_exporter": "python",
   "pygments_lexer": "ipython3",
   "version": "3.13.5"
  }
 },
 "nbformat": 4,
 "nbformat_minor": 5
}
