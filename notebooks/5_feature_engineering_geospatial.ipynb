{
 "cells": [
  {
   "cell_type": "code",
   "execution_count": 7,
   "id": "7633f0b1",
   "metadata": {},
   "outputs": [],
   "source": [
    "# Import Required Libraries\n",
    "\n",
    "import pandas as pd\n",
    "import numpy as np\n",
    "from geopy.geocoders import Nominatim\n",
    "from geopy.distance import geodesic\n",
    "from geopy.extra.rate_limiter import RateLimiter\n",
    "from sklearn.neighbors import BallTree\n",
    "from tqdm.notebook import tqdm\n",
    "import time\n",
    "import os\n"
   ]
  },
  {
   "cell_type": "code",
   "execution_count": 2,
   "id": "40ed81d5",
   "metadata": {},
   "outputs": [
    {
     "data": {
      "text/html": [
       "<div>\n",
       "<style scoped>\n",
       "    .dataframe tbody tr th:only-of-type {\n",
       "        vertical-align: middle;\n",
       "    }\n",
       "\n",
       "    .dataframe tbody tr th {\n",
       "        vertical-align: top;\n",
       "    }\n",
       "\n",
       "    .dataframe thead th {\n",
       "        text-align: right;\n",
       "    }\n",
       "</style>\n",
       "<table border=\"1\" class=\"dataframe\">\n",
       "  <thead>\n",
       "    <tr style=\"text-align: right;\">\n",
       "      <th></th>\n",
       "      <th>rank</th>\n",
       "      <th>total_deposits</th>\n",
       "      <th>bank_name</th>\n",
       "      <th>latitude</th>\n",
       "      <th>longitude</th>\n",
       "    </tr>\n",
       "  </thead>\n",
       "  <tbody>\n",
       "    <tr>\n",
       "      <th>0</th>\n",
       "      <td>1</td>\n",
       "      <td>2.601221e+12</td>\n",
       "      <td>JPMorgan Chase Bank</td>\n",
       "      <td>37.291750</td>\n",
       "      <td>-122.031897</td>\n",
       "    </tr>\n",
       "    <tr>\n",
       "      <th>1</th>\n",
       "      <td>2</td>\n",
       "      <td>2.071624e+12</td>\n",
       "      <td>Bank of America</td>\n",
       "      <td>51.516215</td>\n",
       "      <td>-0.100094</td>\n",
       "    </tr>\n",
       "    <tr>\n",
       "      <th>2</th>\n",
       "      <td>3</td>\n",
       "      <td>1.419560e+12</td>\n",
       "      <td>Wells Fargo Bank</td>\n",
       "      <td>40.036492</td>\n",
       "      <td>-75.129305</td>\n",
       "    </tr>\n",
       "    <tr>\n",
       "      <th>3</th>\n",
       "      <td>4</td>\n",
       "      <td>1.361654e+12</td>\n",
       "      <td>Citibank</td>\n",
       "      <td>0.421434</td>\n",
       "      <td>9.429063</td>\n",
       "    </tr>\n",
       "    <tr>\n",
       "      <th>4</th>\n",
       "      <td>5</td>\n",
       "      <td>5.231021e+11</td>\n",
       "      <td>U.S. Bank</td>\n",
       "      <td>47.816222</td>\n",
       "      <td>-110.669211</td>\n",
       "    </tr>\n",
       "  </tbody>\n",
       "</table>\n",
       "</div>"
      ],
      "text/plain": [
       "   rank  total_deposits            bank_name   latitude   longitude\n",
       "0     1    2.601221e+12  JPMorgan Chase Bank  37.291750 -122.031897\n",
       "1     2    2.071624e+12      Bank of America  51.516215   -0.100094\n",
       "2     3    1.419560e+12     Wells Fargo Bank  40.036492  -75.129305\n",
       "3     4    1.361654e+12             Citibank   0.421434    9.429063\n",
       "4     5    5.231021e+11            U.S. Bank  47.816222 -110.669211"
      ]
     },
     "execution_count": 2,
     "metadata": {},
     "output_type": "execute_result"
    }
   ],
   "source": [
    "# Load Enriched DataFrame\n",
    "\n",
    "df = pd.read_csv(\"../data/enriched/enriched_us_bank_locations.csv\")\n",
    "df = df.dropna(subset=[\"latitude\", \"longitude\"])\n",
    "df.reset_index(drop=True, inplace=True)\n",
    "df.head()\n"
   ]
  },
  {
   "cell_type": "code",
   "execution_count": 3,
   "id": "f20f2ddf",
   "metadata": {},
   "outputs": [],
   "source": [
    "# Feature: Distance to Nearest Competitor Bank\n",
    "\n",
    "# Convert latitude/longitude to radians for BallTree\n",
    "coords = np.radians(df[[\"latitude\", \"longitude\"]].values)\n",
    "tree = BallTree(coords, metric='haversine')\n",
    "\n",
    "# Query for 2 nearest neighbors (self + nearest competitor)\n",
    "distances, indices = tree.query(coords, k=2)\n",
    "\n",
    "# Get distance to nearest *other* bank in kilometers\n",
    "df[\"nearest_competitor_distance_km\"] = distances[:, 1] * 6371  # Earth radius in km\n"
   ]
  },
  {
   "cell_type": "code",
   "execution_count": 4,
   "id": "71a44e08",
   "metadata": {},
   "outputs": [],
   "source": [
    "# Feature : Number of Competitors within 10 km Radius\n",
    "\n",
    "radius_km = 10\n",
    "radius_rad = radius_km / 6371\n",
    "\n",
    "# Count how many neighbors are within the radius\n",
    "neighbor_counts = tree.query_radius(coords, r=radius_rad)\n",
    "\n",
    "df[\"branch_density_10km\"] = [len(nbrs)-1 for nbrs in neighbor_counts]  # exclude self\n"
   ]
  },
  {
   "cell_type": "code",
   "execution_count": 8,
   "id": "972ae9e8",
   "metadata": {},
   "outputs": [
    {
     "data": {
      "application/vnd.jupyter.widget-view+json": {
       "model_id": "562a713b4db04a5e8b4ec71e6aedb03c",
       "version_major": 2,
       "version_minor": 0
      },
      "text/plain": [
       "  0%|          | 0/2850 [00:00<?, ?it/s]"
      ]
     },
     "metadata": {},
     "output_type": "display_data"
    }
   ],
   "source": [
    "# Feature: Get City and State\n",
    "\n",
    "geolocator = Nominatim(user_agent=\"geo_bank_reverse\")\n",
    "reverse = RateLimiter(geolocator.reverse, min_delay_seconds=1)  # one request/sec\n",
    "\n",
    "states = []\n",
    "cities = []\n",
    "\n",
    "for lat, lon in tqdm(zip(df[\"latitude\"], df[\"longitude\"]), total=len(df)):\n",
    "    try:\n",
    "        location = reverse((lat, lon), language='en')\n",
    "        address = location.raw.get(\"address\", {})\n",
    "        state = address.get(\"state\", None)\n",
    "        city = address.get(\"city\", address.get(\"town\", address.get(\"village\", None)))\n",
    "    except Exception as e:\n",
    "        state = None\n",
    "        city = None\n",
    "\n",
    "    states.append(state)\n",
    "    cities.append(city)\n",
    "\n",
    "df[\"state\"] = states\n",
    "df[\"city\"] = cities\n"
   ]
  },
  {
   "cell_type": "code",
   "execution_count": 9,
   "id": "f0b6621e",
   "metadata": {},
   "outputs": [],
   "source": [
    "# Save Updated DataFrame\n",
    "\n",
    "os.makedirs(\"../data/final\", exist_ok=True)\n",
    "df.to_csv(\"../data/final/geo_features_us_bank_final.csv\", index=False)\n"
   ]
  },
  {
   "cell_type": "code",
   "execution_count": null,
   "id": "8cd57329",
   "metadata": {},
   "outputs": [],
   "source": []
  }
 ],
 "metadata": {
  "kernelspec": {
   "display_name": "GeoBank (Conda)",
   "language": "python",
   "name": "geo_bank"
  },
  "language_info": {
   "codemirror_mode": {
    "name": "ipython",
    "version": 3
   },
   "file_extension": ".py",
   "mimetype": "text/x-python",
   "name": "python",
   "nbconvert_exporter": "python",
   "pygments_lexer": "ipython3",
   "version": "3.13.5"
  }
 },
 "nbformat": 4,
 "nbformat_minor": 5
}
